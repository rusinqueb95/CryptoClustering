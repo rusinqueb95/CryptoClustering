# Import required libraries and dependencies
import pandas as pd
from sklearn.cluster import KMeans
from sklearn.decomposition import PCA
from sklearn.preprocessing import StandardScaler


# Load the data into a Pandas DataFrame and make the index the "coin_id" column.
market_data_df = pd.read_csv("Resources/crypto_market_data.csv", index_col="coin_id")

# Display sample data
market_data_df.head(10)


# Generate summary statistics
market_data_df.describe()





# Use the `StandardScaler()` module from scikit-learn to normalize the data from the CSV file


scaled_data = StandardScaler().fit_transform(market_data_df)



# Create a DataFrame with the scaled data
scaled_df = pd.DataFrame(scaled_data, columns=market_data_df.columns)


# Copy the crypto names from the original data

coin_names = market_data_df.index.copy()


# Set the coinid column as index

scaled_df.index = coin_names


# Display sample data
scaled_df.head()






# Create a list with the number of k-values to try
# Use a range from 1 to 11

k = list(range(1, 9))


# Create an empty list to store the inertia values

inertia = []

# Create a for loop to compute the inertia with each possible value of k
# Inside the loop:
# 1. Create a KMeans model using the loop counter for the n_clusters
# 2. Fit the model to the data using the scaled DataFrame
# 3. Append the model.inertia_ to the inertia list

for i in k:
    k_model = KMeans(n_clusters=i, n_init='auto', random_state=6)
    k_model.fit(scaled_df)
    inertia.append(k_model.inertia_)

# Create a dictionary with the data to plot the Elbow curve

elbow_data = {"k": k, "inertia": inertia}


# Create a DataFrame with the data to plot the Elbow curve
df_elbow = pd.DataFrame(elbow_data)


# Display the DataFrame


df_elbow



# Plot a line chart with all the inertia values computed with 
# the different values of k to visually identify the optimal value for k.


df_elbow.plot.line(x="k",
                   y="inertia",
                   title="Elbow Curve",
                   xticks=k)









# Initialize the K-Means model using the best value for k
model = KMeans(n_clusters=4)



# Fit the K-Means model using the scaled data
model.fit(scaled_df)



# Predict the clusters to group the cryptocurrencies using the scaled data
kmeans_predictions = model.predict(scaled_df)


# View the resulting array of cluster values.


kmeans_predictions



# Create a copy of the DataFrame


scaled_prediction_df = scaled_df.copy()



# Add a new column to the DataFrame with the predicted clusters


scaled_prediction_df['crypto_cluster'] = kmeans_predictions


# Display sample data


scaled_prediction_df.head()



# Create a scatter plot using Pandas plot by setting 
# `x="price_change_percentage_24h"` and `y="price_change_percentage_7d"`.
# Use "rainbow" for the color to better visualize the data.


scaled_prediction_df.plot.scatter(
    x='price_change_percentage_24h',
    y='price_change_percentage_7d', 
    c='crypto_cluster',
    colormap='rainbow')





# Create a PCA model instance and set `n_components=3`.


pca = PCA(n_components=3)



# Use the PCA model with `fit_transform` on the original scaled DataFrame to reduce to three principal components.

market_pca = pca.fit_transform(scaled_df)


# View the first five rows of the DataFrame. 


market_pca[:5]



# Retrieve the explained variance to determine how much information  can be attributed to each principal component.

pca.explained_variance_ratio_






# Create a new DataFrame with the PCA data.
# Note: The code for this step is provided for you

# Creating a DataFrame with the PCA data


market_pca_df = pd.DataFrame(
    market_pca,
    columns=["PCA1", "PCA2" , "PCA3"]
)

# Copy the crypto names from the original data

market_pca_df['coin_id'] = market_data_df.index

# Set the coinid column as index
market_pca_df = market_pca_df.set_index('coin_id')


# Display sample data
market_pca_df.head(10)






# Create a list with the number of k-values to try
# Use a range from 1 to 11

k_pca = list(range(1,11))


# Create an empty list to store the inertia values

inertia = []

# Create a for loop to compute the inertia with each possible value of k
# Inside the loop:
# 1. Create a KMeans model using the loop counter for the n_clusters
# 2. Fit the model to the data using PCA DataFrame.
# 3. Append the model.inertia_ to the inertia list


for i in k_pca:
    k_model = KMeans(n_clusters=i, random_state=0)
    k_model.fit(market_pca_df)
    inertia.append(k_model.inertia_)


# Create a dictionary with the data to plot the Elbow curve

elbow_data = {'k_pca': k_pca , 'inertia': inertia}


# Create a DataFrame with the data to plot the Elbow curve

df_elbow_pca = pd.DataFrame(elbow_data)

# Display the DataFrame

df_elbow_pca.head(10)



# Plot a line chart with all the inertia values computed with 
# the different values of k to visually identify the optimal value for k.
df_elbow_pca.plot.line(
    x="k_pca", 
    y="inertia", 
    title="Elbow Curve")








# Initialize the K-Means model using the best value for k


model = KMeans(n_clusters=4, random_state=0)



# Fit the K-Means model using the PCA data


model.fit(market_pca_df)



# Predict the clusters to group the cryptocurrencies using the PCA data

k_4 = model.predict(market_pca_df)


# Print the resulting array of cluster values.

k_4



# Create a copy of the DataFrame with the PCA data

market_pca_prediction_df = market_pca_df.copy()

# Add a new column to the DataFrame with the predicted clusters

market_pca_prediction_df['crypto_cluster']= k_4

# Display sample data


market_pca_prediction_df.head()



# Create a scatter plot using hvPlot by setting `x="PCA1"` and `y="PCA2"`. 


market_pca_prediction_df.plot.scatter(
    x='PCA1',
    y='PCA2', 
    c='crypto_cluster',
    colormap = 'summer')





# Use the columns from the original scaled DataFrame as the index.



pca_component_weights = pd.DataFrame(pca.components_.T, columns=['PCA1', 'PCA2', 'PCA3'], index=scaled_df.columns)
pca_component_weights





















